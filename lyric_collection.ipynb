{
 "cells": [
  {
   "cell_type": "code",
   "execution_count": 11,
   "metadata": {},
   "outputs": [],
   "source": [
    "import config\n",
    "from bs4 import BeautifulSoup\n",
    "import requests\n",
    "import os \n",
    "import re\n",
    "from lyricsgenius import Genius"
   ]
  },
  {
   "cell_type": "code",
   "execution_count": 2,
   "metadata": {},
   "outputs": [],
   "source": [
    "# page = requests.get('https://genius.com/Red-hot-chili-peppers-around-the-world-lyrics')\n",
    "# soup = BeautifulSoup(page.text, 'html.parser')\n",
    "# soup.prettify()"
   ]
  },
  {
   "cell_type": "code",
   "execution_count": 3,
   "metadata": {},
   "outputs": [],
   "source": [
    "# lyrics = soup.find('div', class_='Lyrics__Container-sc-1ynbvzw-2 jgQsqn')\n",
    "# lyrics.get_text()"
   ]
  },
  {
   "cell_type": "code",
   "execution_count": 4,
   "metadata": {},
   "outputs": [],
   "source": [
    "# def scrape_lyrics(artistname, songname):\n",
    "#     artistname2 = str(artistname.replace(' ','-')) if ' ' in artistname else str(artistname)\n",
    "#     songname2 = str(songname.replace(' ','-')) if ' ' in songname else str(songname)\n",
    "#     page = requests.get('https://genius.com/'+ artistname2 + '-' + songname2 + '-' + 'lyrics')\n",
    "#     html = BeautifulSoup(page.text, 'html.parser')\n",
    "#     lyrics1 = html.find(\"div\", class_=\"lyrics\")\n",
    "#     lyrics2 = html.find(\"div\", class_=\"Lyrics__Container-sc-1ynbvzw-2 jgQsqn\")\n",
    "#     if lyrics1:\n",
    "#         lyrics = lyrics1.get_text()\n",
    "#     elif lyrics2:\n",
    "#         lyrics = lyrics2.get_text()\n",
    "#     elif lyrics1 == lyrics2 == None:\n",
    "#         lyrics = None\n",
    "#     return lyrics\n",
    "\n",
    "# #function to attach lyrics onto data frame\n",
    "# #artist_name should be inserted as a string\n",
    "# def lyrics_onto_frame(df1, artist_name):\n",
    "#     for i,x in enumerate(df1['track']):\n",
    "#         test = scrape_lyrics(artist_name, x)\n",
    "#         df1.loc[i, 'lyrics'] = test\n",
    "#     return df1"
   ]
  },
  {
   "cell_type": "code",
   "execution_count": 5,
   "metadata": {},
   "outputs": [],
   "source": [
    "# lyrics_onto_frame(the_getaway, 'Red hot chili peppers')"
   ]
  },
  {
   "cell_type": "code",
   "execution_count": 6,
   "metadata": {},
   "outputs": [],
   "source": [
    "# ACCESS_TOKEN = config.genius['bearer_token']"
   ]
  },
  {
   "cell_type": "code",
   "execution_count": 7,
   "metadata": {},
   "outputs": [],
   "source": [
    "# base_url = \"http://api.genius.com\"\n",
    "# headers = {'Authorization': ACCESS_TOKEN}\n",
    "# search_url = base_url + \"/search\"\n",
    "# song_title = \"The Getaway\"\n",
    "# artist_name = \"Red Hot Chili Peppers\"\n",
    "# data = {'q': song_title}\n",
    "# response = requests.get(search_url, data=data, headers=headers)\n",
    "# json = response.json()\n",
    "# song_info = None\n",
    "# for hit in json[\"response\"][\"hits\"]:\n",
    "#     if hit[\"result\"][\"primary_artist\"][\"name\"] == artist_name:\n",
    "#         song_info = hit\n",
    "#         break\n",
    "# if song_info:\n",
    "#     pass"
   ]
  },
  {
   "cell_type": "code",
   "execution_count": 8,
   "metadata": {},
   "outputs": [],
   "source": [
    "# response"
   ]
  },
  {
   "cell_type": "code",
   "execution_count": 9,
   "metadata": {},
   "outputs": [],
   "source": [
    "# song_info[\"result\"][\"api_path\"]"
   ]
  },
  {
   "cell_type": "code",
   "execution_count": 15,
   "metadata": {
    "scrolled": true
   },
   "outputs": [
    {
     "name": "stdout",
     "output_type": "stream",
     "text": [
      "Searching for songs by Red Hot Chili Peppers...\n",
      "\n",
      "Song 1: \"Californication\"\n",
      "Song 2: \"Under the Bridge\"\n",
      "Song 3: \"Can’t Stop\"\n",
      "\n",
      "Reached user-specified song limit (3).\n",
      "Done. Found 3 songs.\n",
      "Searching for \"The Getaway\" by Red Hot Chili Peppers...\n",
      "Done.\n",
      "[Verse 1: Anthony Kiedis]\n",
      "That's right, you're right, we will do our thing tonight alright\n",
      "Take me through the future\n",
      "It's time, you're fine, just another color coded crime\n",
      "Incision and a suture\n",
      "You told my friend we would get it on no matter when\n",
      "A supercavitation\n",
      "Let's go, you show me something no one will ever know\n",
      "A love hallucination\n",
      "\n",
      "[Chorus: Anthony Kiedis]\n",
      "Another lonely superstar to getaway inside your car\n",
      "Take it much too far\n",
      "Surrender to the brave inside a lover that another tried\n",
      "Take it, too my ride\n",
      "\n",
      "[Post-Chorus: Anthony Kiedis & Anna Waronker]\n",
      "You don't have to keep it if it's mine\n",
      "Another lonely superstar to getaway inside your car\n",
      "Another place maybe another time\n",
      "Surrender to the brave inside a lover that another tried\n",
      "\n",
      "[Verse 2: Anthony Kiedis]\n",
      "Complete repeat sittin' in your car and on your street\n",
      "Lost in California\n",
      "Let's steal this wheel, take a spin to find out how we feel\n",
      "Just around the corner\n",
      "Slow down for sound, turn it up and no we can’t be found\n",
      "The body that we transcend\n",
      "Asleep, you weep, find out that the trick is never cheap\n",
      "A melancholy girlfriend\n",
      "[Chorus: Anthony Kiedis]\n",
      "Another lonely superstar to getaway inside your car\n",
      "Take it much too far\n",
      "Surrender to the brave inside a lover that another tried\n",
      "Take it, too my ride\n",
      "\n",
      "[Post-Chorus: Anthony Kiedis & Anna Waronker]\n",
      "You don't have to keep it if it's mine\n",
      "Another lonely superstar to getaway inside your car\n",
      "Another place maybe another time\n",
      "Surrender to the brave inside a lover that another tried\n",
      "\n",
      "[Bridge: Anthony Kiedis]\n",
      "That's right, you're right, we will do our thing tonight, alright\n",
      "Drive the constellation\n",
      "It's time, you're fine, just another color coded crime\n",
      "The song is fascination\n",
      "\n",
      "[Chorus: Anthony Kiedis]\n",
      "Another lonely superstar to getaway inside your car\n",
      "Take it much too far\n",
      "Surrender to the brave inside the lover that another tried\n",
      "Take it, too my ride\n",
      "\n",
      "[Post-Chorus: Anthony Kiedis & Anna Waronker]\n",
      "A May-December might not be so smart\n",
      "Another lonely superstar to getaway inside your car\n",
      "Arrivals that we wish would not depart\n",
      "Surrender to the brave inside a lover that another tried\n",
      "[Outro: Anthony Kiedis]\n",
      "Don't be late 'cause you're my savior\n",
      "Make it great whatever stays\n",
      "Golden gate my rearranger\n",
      "Hold my name inside your rays13EmbedShare URLCopyEmbedCopy\n"
     ]
    }
   ],
   "source": [
    "genius = Genius(config.genius['acces_token'])\n",
    "artist = genius.search_artist(\"Red Hot Chili Peppers\", max_songs=3)\n",
    "song = artist.song(\"The Getaway\")\n",
    "print(song.lyrics)"
   ]
  },
  {
   "cell_type": "code",
   "execution_count": 18,
   "metadata": {},
   "outputs": [
    {
     "name": "stdout",
     "output_type": "stream",
     "text": [
      "Searching for \"Stadium Arcadium\" by Red Hot Chili Peppers...\n",
      "Wrote Lyrics_StadiumArcadium.json.\n"
     ]
    }
   ],
   "source": [
    "album = genius.search_album(\"Stadium Arcadium\", \"Red Hot Chili Peppers\")\n",
    "album.save_lyrics()"
   ]
  },
  {
   "cell_type": "code",
   "execution_count": 20,
   "metadata": {},
   "outputs": [
    {
     "name": "stdout",
     "output_type": "stream",
     "text": [
      "Searching for \"By The Way\" by Red Hot Chili Peppers...\n",
      "Wrote Lyrics_BytheWay.json.\n"
     ]
    }
   ],
   "source": [
    "album = genius.search_album(\"By The Way\", \"Red Hot Chili Peppers\")\n",
    "album.save_lyrics()"
   ]
  },
  {
   "cell_type": "code",
   "execution_count": 21,
   "metadata": {},
   "outputs": [
    {
     "name": "stdout",
     "output_type": "stream",
     "text": [
      "Searching for \"Blood Sugar Sex Magik\" by Red Hot Chili Peppers...\n",
      "Wrote Lyrics_BloodSugarSexMagik.json.\n"
     ]
    }
   ],
   "source": [
    "album = genius.search_album(\"Blood Sugar Sex Magik\", \"Red Hot Chili Peppers\")\n",
    "album.save_lyrics()"
   ]
  },
  {
   "cell_type": "code",
   "execution_count": 22,
   "metadata": {},
   "outputs": [],
   "source": [
    "#other two albums loaded on eda notebook"
   ]
  },
  {
   "cell_type": "code",
   "execution_count": null,
   "metadata": {},
   "outputs": [],
   "source": []
  }
 ],
 "metadata": {
  "kernelspec": {
   "display_name": "Python (learn-env)",
   "language": "python",
   "name": "learn-env"
  },
  "language_info": {
   "codemirror_mode": {
    "name": "ipython",
    "version": 3
   },
   "file_extension": ".py",
   "mimetype": "text/x-python",
   "name": "python",
   "nbconvert_exporter": "python",
   "pygments_lexer": "ipython3",
   "version": "3.8.5"
  }
 },
 "nbformat": 4,
 "nbformat_minor": 4
}
